{
 "cells": [
  {
   "cell_type": "code",
   "execution_count": 1,
   "metadata": {},
   "outputs": [],
   "source": [
    "%matplotlib inline"
   ]
  },
  {
   "cell_type": "markdown",
   "metadata": {},
   "source": [
    "\n",
    "# Compute MNE inverse solution on evoked data with a mixed source space\n",
    "\n",
    "Create a mixed source space and compute an MNE inverse solution on an\n",
    "evoked dataset.\n"
   ]
  },
  {
   "cell_type": "code",
   "execution_count": null,
   "metadata": {},
   "outputs": [],
   "source": [
    "# Author: Annalisa Pascarella <a.pascarella@iac.cnr.it>\n",
    "#\n",
    "# License: BSD (3-clause)\n",
    "\n",
    "import os.path as op\n",
    "import matplotlib.pyplot as plt\n",
    "\n",
    "from nilearn import plotting\n",
    "\n",
    "import mne\n",
    "from mne.minimum_norm import make_inverse_operator, apply_inverse\n",
    "\n",
    "# Set dir\n",
    "data_path = mne.datasets.sample.data_path()\n",
    "subject = 'sample'\n",
    "data_dir = op.join(data_path, 'MEG', subject)\n",
    "subjects_dir = op.join(data_path, 'subjects')\n",
    "bem_dir = op.join(subjects_dir, subject, 'bem')\n",
    "\n",
    "# Set file names\n",
    "fname_mixed_src = op.join(bem_dir, '%s-oct-6-mixed-src.fif' % subject)\n",
    "fname_aseg = op.join(subjects_dir, subject, 'mri', 'aseg.mgz')\n",
    "\n",
    "fname_model = op.join(bem_dir, '%s-5120-bem.fif' % subject)\n",
    "fname_bem = op.join(bem_dir, '%s-5120-bem-sol.fif' % subject)\n",
    "\n",
    "fname_evoked = data_dir + '/sample_audvis-ave.fif'\n",
    "fname_trans = data_dir + '/sample_audvis_raw-trans.fif'\n",
    "fname_fwd = data_dir + '/sample_audvis-meg-oct-6-mixed-fwd.fif'\n",
    "fname_cov = data_dir + '/sample_audvis-shrunk-cov.fif'"
   ]
  },
  {
   "cell_type": "markdown",
   "metadata": {},
   "source": [
    "## Set up our source space\n",
    "List substructures we are interested in. We select only the\n",
    "sub structures we want to include in the source space:\n",
    "\n"
   ]
  },
  {
   "cell_type": "code",
   "execution_count": null,
   "metadata": {},
   "outputs": [],
   "source": [
    "labels_vol = ['Left-Amygdala',\n",
    "              'Left-Thalamus-Proper',\n",
    "              'Left-Cerebellum-Cortex',\n",
    "              'Brain-Stem',\n",
    "              'Right-Amygdala',\n",
    "              'Right-Thalamus-Proper',\n",
    "              'Right-Cerebellum-Cortex']"
   ]
  },
  {
   "cell_type": "markdown",
   "metadata": {},
   "source": [
    "Get a surface-based source space, here with few source points for speed\n",
    "in this demonstration, in general you should use oct6 spacing!\n",
    "\n"
   ]
  },
  {
   "cell_type": "code",
   "execution_count": null,
   "metadata": {},
   "outputs": [],
   "source": [
    "src = mne.setup_source_space(subject, spacing='oct5',\n",
    "                             add_dist=False, subjects_dir=subjects_dir)"
   ]
  },
  {
   "cell_type": "markdown",
   "metadata": {},
   "source": [
    "Now we create a mixed src space by adding the volume regions specified in the\n",
    "list labels_vol. First, read the aseg file and the source space bounds\n",
    "using the inner skull surface (here using 10mm spacing to save time,\n",
    "we recommend something smaller like 5.0 in actual analyses):\n",
    "\n"
   ]
  },
  {
   "cell_type": "code",
   "execution_count": null,
   "metadata": {},
   "outputs": [],
   "source": [
    "vol_src = mne.setup_volume_source_space(\n",
    "    subject, mri=fname_aseg, pos=10.0, bem=fname_model,\n",
    "    volume_label=labels_vol, subjects_dir=subjects_dir,\n",
    "    add_interpolator=False,  # just for speed, usually this should be True\n",
    "    verbose=True)\n",
    "\n",
    "# Generate the mixed source space\n",
    "src += vol_src\n",
    "print(f\"The source space contains {len(src)} spaces and \"\n",
    "      f\"{sum(s['nuse'] for s in src)} vertices\")"
   ]
  },
  {
   "cell_type": "markdown",
   "metadata": {},
   "source": [
    "## View the source space\n",
    "\n"
   ]
  },
  {
   "cell_type": "code",
   "execution_count": null,
   "metadata": {},
   "outputs": [],
   "source": [
    "src.plot(subjects_dir=subjects_dir)"
   ]
  },
  {
   "cell_type": "markdown",
   "metadata": {},
   "source": [
    "We could write the mixed source space with::\n",
    "\n",
    "   >>> write_source_spaces(fname_mixed_src, src, overwrite=True)\n",
    "\n",
    "We can also export source positions to nifti file and visualize it again:\n",
    "\n"
   ]
  },
  {
   "cell_type": "code",
   "execution_count": null,
   "metadata": {},
   "outputs": [],
   "source": [
    "nii_fname = op.join(bem_dir, '%s-mixed-src.nii' % subject)\n",
    "src.export_volume(nii_fname, mri_resolution=True, overwrite=True)\n",
    "plotting.plot_img(nii_fname, cmap='nipy_spectral')"
   ]
  },
  {
   "cell_type": "markdown",
   "metadata": {},
   "source": [
    "## Compute the fwd matrix\n",
    "\n"
   ]
  },
  {
   "cell_type": "code",
   "execution_count": null,
   "metadata": {},
   "outputs": [],
   "source": [
    "fwd = mne.make_forward_solution(\n",
    "    fname_evoked, fname_trans, src, fname_bem,\n",
    "    mindist=5.0,  # ignore sources<=5mm from innerskull\n",
    "    meg=True, eeg=False, n_jobs=1)\n",
    "del src  # save memory\n",
    "\n",
    "leadfield = fwd['sol']['data']\n",
    "print(\"Leadfield size : %d sensors x %d dipoles\" % leadfield.shape)\n",
    "print(f\"The fwd source space contains {len(fwd['src'])} spaces and \"\n",
    "      f\"{sum(s['nuse'] for s in fwd['src'])} vertices\")\n",
    "\n",
    "# Load data\n",
    "condition = 'Left Auditory'\n",
    "evoked = mne.read_evokeds(fname_evoked, condition=condition,\n",
    "                          baseline=(None, 0))\n",
    "noise_cov = mne.read_cov(fname_cov)"
   ]
  },
  {
   "cell_type": "markdown",
   "metadata": {},
   "source": [
    "## Compute inverse solution\n",
    "\n"
   ]
  },
  {
   "cell_type": "code",
   "execution_count": null,
   "metadata": {},
   "outputs": [],
   "source": [
    "snr = 3.0            # use smaller SNR for raw data\n",
    "inv_method = 'dSPM'  # sLORETA, MNE, dSPM\n",
    "parc = 'aparc'       # the parcellation to use, e.g., 'aparc' 'aparc.a2009s'\n",
    "loose = dict(surface=0.2, volume=1.)\n",
    "\n",
    "lambda2 = 1.0 / snr ** 2\n",
    "\n",
    "inverse_operator = make_inverse_operator(\n",
    "    evoked.info, fwd, noise_cov, depth=None, loose=loose, verbose=True)\n",
    "del fwd\n",
    "\n",
    "stc = apply_inverse(evoked, inverse_operator, lambda2, inv_method,\n",
    "                    pick_ori=None)\n",
    "src = inverse_operator['src']"
   ]
  },
  {
   "cell_type": "markdown",
   "metadata": {},
   "source": [
    "## Plot the mixed source estimate\n",
    "\n"
   ]
  },
  {
   "cell_type": "code",
   "execution_count": null,
   "metadata": {},
   "outputs": [],
   "source": [
    "initial_time = 0.1\n",
    "stc_vec = apply_inverse(evoked, inverse_operator, lambda2, inv_method,\n",
    "                        pick_ori='vector')\n",
    "brain = stc_vec.plot(\n",
    "    hemi='both', src=inverse_operator['src'], views='coronal',\n",
    "    initial_time=initial_time, subjects_dir=subjects_dir)"
   ]
  },
  {
   "cell_type": "markdown",
   "metadata": {},
   "source": [
    "## Plot the surface\n",
    "\n"
   ]
  },
  {
   "cell_type": "code",
   "execution_count": null,
   "metadata": {},
   "outputs": [],
   "source": [
    "brain = stc.surface().plot(initial_time=initial_time,\n",
    "                           subjects_dir=subjects_dir)"
   ]
  },
  {
   "cell_type": "markdown",
   "metadata": {},
   "source": [
    "## Plot the volume\n",
    "\n"
   ]
  },
  {
   "cell_type": "code",
   "execution_count": null,
   "metadata": {},
   "outputs": [],
   "source": [
    "fig = stc.volume().plot(initial_time=initial_time, src=src,\n",
    "                        subjects_dir=subjects_dir)"
   ]
  },
  {
   "cell_type": "markdown",
   "metadata": {},
   "source": [
    "## Process labels\n",
    "Average the source estimates within each label of the cortical parcellation\n",
    "and each sub structure contained in the src space\n",
    "\n"
   ]
  },
  {
   "cell_type": "code",
   "execution_count": null,
   "metadata": {},
   "outputs": [],
   "source": [
    "# Get labels for FreeSurfer 'aparc' cortical parcellation with 34 labels/hemi\n",
    "labels_parc = mne.read_labels_from_annot(\n",
    "    subject, parc=parc, subjects_dir=subjects_dir)\n",
    "\n",
    "label_ts = mne.extract_label_time_course(\n",
    "    [stc], labels_parc, src, mode='mean', allow_empty=True)\n",
    "\n",
    "# plot the times series of 2 labels\n",
    "fig, axes = plt.subplots(1)\n",
    "axes.plot(1e3 * stc.times, label_ts[0][0, :], 'k', label='bankssts-lh')\n",
    "axes.plot(1e3 * stc.times, label_ts[0][-1, :].T, 'r', label='Brain-stem')\n",
    "axes.set(xlabel='Time (ms)', ylabel='MNE current (nAm)')\n",
    "axes.legend()\n",
    "mne.viz.tight_layout()"
   ]
  }
 ],
 "metadata": {
  "kernelspec": {
   "display_name": "Python [conda env:mne]",
   "language": "python",
   "name": "conda-env-mne-py"
  },
  "language_info": {
   "codemirror_mode": {
    "name": "ipython",
    "version": 3
   },
   "file_extension": ".py",
   "mimetype": "text/x-python",
   "name": "python",
   "nbconvert_exporter": "python",
   "pygments_lexer": "ipython3",
   "version": "3.9.2"
  }
 },
 "nbformat": 4,
 "nbformat_minor": 1
}
