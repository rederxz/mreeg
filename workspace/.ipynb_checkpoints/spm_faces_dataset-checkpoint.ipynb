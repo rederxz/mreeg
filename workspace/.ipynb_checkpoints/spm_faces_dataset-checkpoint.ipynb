{
 "cells": [
  {
   "cell_type": "code",
   "execution_count": 1,
   "metadata": {},
   "outputs": [],
   "source": [
    "%matplotlib inline"
   ]
  },
  {
   "cell_type": "markdown",
   "metadata": {},
   "source": [
    "\n",
    "\n",
    "# From raw data to dSPM on SPM Faces dataset\n",
    "\n",
    "Runs a full pipeline using MNE-Python:\n",
    "\n",
    "    - artifact removal\n",
    "    - averaging Epochs\n",
    "    - forward model computation\n",
    "    - source reconstruction using dSPM on the contrast : \"faces - scrambled\"\n",
    "\n",
    "<div class=\"alert alert-info\"><h4>Note</h4><p>This example does quite a bit of processing, so even on a\n",
    "          fast machine it can take several minutes to complete.</p></div>\n"
   ]
  },
  {
   "cell_type": "code",
   "execution_count": null,
   "metadata": {},
   "outputs": [
    {
     "name": "stdout",
     "output_type": "stream",
     "text": [
      "Automatically created module for IPython interactive environment\n",
      "Using default location ~/mne_data for spm...\n",
      "Downloading archive MNE-spm-face.tar.gz to C:\\Users\\WillKD\\mne_data\n",
      "Downloading https://files.osf.io/v1/resources/rxvq7/providers/osfstorage/59c0e343b83f6902538c4553?version=2&action=download&direct (882.1 MB)\n"
     ]
    },
    {
     "data": {
      "application/vnd.jupyter.widget-view+json": {
       "model_id": "7f385e6712184d6cb33551c2c2a709c6",
       "version_major": 2,
       "version_minor": 0
      },
      "text/plain": [
       "HBox(children=(FloatProgress(value=0.0, description='Downloading', max=924932163.0, style=ProgressStyle(descri…"
      ]
     },
     "metadata": {},
     "output_type": "display_data"
    }
   ],
   "source": [
    "# Authors: Alexandre Gramfort <alexandre.gramfort@inria.fr>\n",
    "#          Denis Engemann <denis.engemann@gmail.com>\n",
    "#\n",
    "# License: BSD (3-clause)\n",
    "\n",
    "\n",
    "import matplotlib.pyplot as plt\n",
    "\n",
    "import mne\n",
    "from mne.datasets import spm_face\n",
    "from mne.preprocessing import ICA, create_eog_epochs\n",
    "from mne import io, combine_evoked\n",
    "from mne.minimum_norm import make_inverse_operator, apply_inverse\n",
    "\n",
    "print(__doc__)\n",
    "\n",
    "data_path = spm_face.data_path()\n",
    "subjects_dir = data_path + '/subjects'"
   ]
  },
  {
   "cell_type": "markdown",
   "metadata": {},
   "source": [
    "Load and filter data, set up epochs\n",
    "\n"
   ]
  },
  {
   "cell_type": "code",
   "execution_count": null,
   "metadata": {},
   "outputs": [],
   "source": [
    "raw_fname = data_path + '/MEG/spm/SPM_CTF_MEG_example_faces%d_3D.ds'\n",
    "\n",
    "raw = io.read_raw_ctf(raw_fname % 1, preload=True)  # Take first run\n",
    "# Here to save memory and time we'll downsample heavily -- this is not\n",
    "# advised for real data as it can effectively jitter events!\n",
    "raw.resample(120., npad='auto')\n",
    "\n",
    "picks = mne.pick_types(raw.info, meg=True, exclude='bads')\n",
    "raw.filter(1, 30, method='fir', fir_design='firwin')\n",
    "\n",
    "events = mne.find_events(raw, stim_channel='UPPT001')\n",
    "\n",
    "# plot the events to get an idea of the paradigm\n",
    "mne.viz.plot_events(events, raw.info['sfreq'])\n",
    "\n",
    "event_ids = {\"faces\": 1, \"scrambled\": 2}\n",
    "\n",
    "tmin, tmax = -0.2, 0.6\n",
    "baseline = None  # no baseline as high-pass is applied\n",
    "reject = dict(mag=5e-12)\n",
    "\n",
    "epochs = mne.Epochs(raw, events, event_ids, tmin, tmax, picks=picks,\n",
    "                    baseline=baseline, preload=True, reject=reject)\n",
    "\n",
    "# Fit ICA, find and remove major artifacts\n",
    "ica = ICA(n_components=0.95, random_state=0).fit(raw, decim=1, reject=reject)\n",
    "\n",
    "# compute correlation scores, get bad indices sorted by score\n",
    "eog_epochs = create_eog_epochs(raw, ch_name='MRT31-2908', reject=reject)\n",
    "eog_inds, eog_scores = ica.find_bads_eog(eog_epochs, ch_name='MRT31-2908')\n",
    "ica.plot_scores(eog_scores, eog_inds)  # see scores the selection is based on\n",
    "ica.plot_components(eog_inds)  # view topographic sensitivity of components\n",
    "ica.exclude += eog_inds[:1]  # we saw the 2nd ECG component looked too dipolar\n",
    "ica.plot_overlay(eog_epochs.average())  # inspect artifact removal\n",
    "ica.apply(epochs)  # clean data, default in place\n",
    "\n",
    "evoked = [epochs[k].average() for k in event_ids]\n",
    "\n",
    "contrast = combine_evoked(evoked, weights=[-1, 1])  # Faces - scrambled\n",
    "\n",
    "evoked.append(contrast)\n",
    "\n",
    "for e in evoked:\n",
    "    e.plot(ylim=dict(mag=[-400, 400]))\n",
    "\n",
    "plt.show()\n",
    "\n",
    "# estimate noise covarariance\n",
    "noise_cov = mne.compute_covariance(epochs, tmax=0, method='shrunk',\n",
    "                                   rank=None)"
   ]
  },
  {
   "cell_type": "markdown",
   "metadata": {},
   "source": [
    "Visualize fields on MEG helmet\n",
    "\n"
   ]
  },
  {
   "cell_type": "code",
   "execution_count": null,
   "metadata": {},
   "outputs": [],
   "source": [
    "# The transformation here was aligned using the dig-montage. It's included in\n",
    "# the spm_faces dataset and is named SPM_dig_montage.fif.\n",
    "trans_fname = data_path + ('/MEG/spm/SPM_CTF_MEG_example_faces1_3D_'\n",
    "                           'raw-trans.fif')\n",
    "\n",
    "maps = mne.make_field_map(evoked[0], trans_fname, subject='spm',\n",
    "                          subjects_dir=subjects_dir, n_jobs=1)\n",
    "\n",
    "evoked[0].plot_field(maps, time=0.170)"
   ]
  },
  {
   "cell_type": "markdown",
   "metadata": {},
   "source": [
    "Look at the whitened evoked daat\n",
    "\n"
   ]
  },
  {
   "cell_type": "code",
   "execution_count": null,
   "metadata": {},
   "outputs": [],
   "source": [
    "evoked[0].plot_white(noise_cov)"
   ]
  },
  {
   "cell_type": "markdown",
   "metadata": {},
   "source": [
    "Compute forward model\n",
    "\n"
   ]
  },
  {
   "cell_type": "code",
   "execution_count": null,
   "metadata": {},
   "outputs": [],
   "source": [
    "src = data_path + '/subjects/spm/bem/spm-oct-6-src.fif'\n",
    "bem = data_path + '/subjects/spm/bem/spm-5120-5120-5120-bem-sol.fif'\n",
    "forward = mne.make_forward_solution(contrast.info, trans_fname, src, bem)"
   ]
  },
  {
   "cell_type": "markdown",
   "metadata": {},
   "source": [
    "Compute inverse solution\n",
    "\n"
   ]
  },
  {
   "cell_type": "code",
   "execution_count": null,
   "metadata": {},
   "outputs": [],
   "source": [
    "snr = 3.0\n",
    "lambda2 = 1.0 / snr ** 2\n",
    "method = 'dSPM'\n",
    "\n",
    "inverse_operator = make_inverse_operator(contrast.info, forward, noise_cov,\n",
    "                                         loose=0.2, depth=0.8)\n",
    "\n",
    "# Compute inverse solution on contrast\n",
    "stc = apply_inverse(contrast, inverse_operator, lambda2, method, pick_ori=None)\n",
    "# stc.save('spm_%s_dSPM_inverse' % contrast.comment)\n",
    "\n",
    "# Plot contrast in 3D with PySurfer if available\n",
    "brain = stc.plot(hemi='both', subjects_dir=subjects_dir, initial_time=0.170,\n",
    "                 views=['ven'], clim={'kind': 'value', 'lims': [3., 6., 9.]})\n",
    "# brain.save_image('dSPM_map.png')"
   ]
  }
 ],
 "metadata": {
  "kernelspec": {
   "display_name": "Python 3",
   "language": "python",
   "name": "python3"
  },
  "language_info": {
   "codemirror_mode": {
    "name": "ipython",
    "version": 3
   },
   "file_extension": ".py",
   "mimetype": "text/x-python",
   "name": "python",
   "nbconvert_exporter": "python",
   "pygments_lexer": "ipython3",
   "version": "3.7.6"
  }
 },
 "nbformat": 4,
 "nbformat_minor": 1
}
