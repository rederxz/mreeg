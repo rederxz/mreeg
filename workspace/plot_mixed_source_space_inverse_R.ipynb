{
 "cells": [
  {
   "cell_type": "code",
   "execution_count": 1,
   "metadata": {},
   "outputs": [],
   "source": [
    "%matplotlib inline"
   ]
  },
  {
   "cell_type": "markdown",
   "metadata": {},
   "source": [
    "\n",
    "# Compute MNE inverse solution on evoked data with a mixed source space\n",
    "\n",
    "Create a mixed source space and compute an MNE inverse solution on an\n",
    "evoked dataset.\n"
   ]
  },
  {
   "cell_type": "code",
   "execution_count": 2,
   "metadata": {},
   "outputs": [
    {
     "name": "stderr",
     "output_type": "stream",
     "text": [
      "C:\\ProgramData\\Anaconda3\\envs\\mne\\lib\\site-packages\\nilearn\\datasets\\__init__.py:87: FutureWarning: Fetchers from the nilearn.datasets module will be updated in version 0.9 to return python strings instead of bytes and Pandas dataframes instead of Numpy arrays.\n",
      "  warn(\"Fetchers from the nilearn.datasets module will be \"\n"
     ]
    }
   ],
   "source": [
    "# Author: Annalisa Pascarella <a.pascarella@iac.cnr.it>\n",
    "#\n",
    "# License: BSD (3-clause)\n",
    "\n",
    "import os.path as op\n",
    "import matplotlib.pyplot as plt\n",
    "\n",
    "from nilearn import plotting\n",
    "\n",
    "import mne\n",
    "from mne.minimum_norm import make_inverse_operator, apply_inverse\n",
    "\n",
    "# Set dir\n",
    "data_path = mne.datasets.sample.data_path()\n",
    "subject = 'sample'\n",
    "data_dir = op.join(data_path, 'MEG', subject)\n",
    "subjects_dir = op.join(data_path, 'subjects')\n",
    "bem_dir = op.join(subjects_dir, subject, 'bem')\n",
    "\n",
    "# Set file names\n",
    "fname_mixed_src = op.join(bem_dir, '%s-oct-6-mixed-src.fif' % subject)\n",
    "fname_aseg = op.join(subjects_dir, subject, 'mri', 'aseg.mgz')\n",
    "\n",
    "fname_model = op.join(bem_dir, '%s-5120-bem.fif' % subject)\n",
    "fname_bem = op.join(bem_dir, '%s-5120-bem-sol.fif' % subject)\n",
    "\n",
    "fname_evoked = data_dir + '/sample_audvis-ave.fif'\n",
    "fname_trans = data_dir + '/sample_audvis_raw-trans.fif'\n",
    "fname_fwd = data_dir + '/sample_audvis-meg-oct-6-mixed-fwd.fif'\n",
    "fname_cov = data_dir + '/sample_audvis-shrunk-cov.fif'"
   ]
  },
  {
   "cell_type": "markdown",
   "metadata": {},
   "source": [
    "## Set up our source space\n",
    "List substructures we are interested in. We select only the\n",
    "sub structures we want to include in the source space:\n",
    "\n"
   ]
  },
  {
   "cell_type": "code",
   "execution_count": 3,
   "metadata": {},
   "outputs": [],
   "source": [
    "labels_vol = ['Left-Amygdala',\n",
    "              'Left-Thalamus-Proper',\n",
    "              'Left-Cerebellum-Cortex',\n",
    "              'Brain-Stem',\n",
    "              'Right-Amygdala',\n",
    "              'Right-Thalamus-Proper',\n",
    "              'Right-Cerebellum-Cortex']"
   ]
  },
  {
   "cell_type": "markdown",
   "metadata": {},
   "source": [
    "Get a surface-based source space, here with few source points for speed\n",
    "in this demonstration, in general you should use oct6 spacing!\n",
    "\n"
   ]
  },
  {
   "cell_type": "code",
   "execution_count": 4,
   "metadata": {
    "scrolled": true
   },
   "outputs": [
    {
     "name": "stdout",
     "output_type": "stream",
     "text": [
      "Setting up the source space with the following parameters:\n",
      "\n",
      "SUBJECTS_DIR = C:\\Users\\WillKD\\mne_data\\MNE-sample-data\\subjects\n",
      "Subject      = sample\n",
      "Surface      = white\n",
      "Octahedron subdivision grade 5\n",
      "\n",
      ">>> 1. Creating the source space...\n",
      "\n",
      "Doing the octahedral vertex picking...\n",
      "Loading C:\\Users\\WillKD\\mne_data\\MNE-sample-data\\subjects\\sample\\surf\\lh.white...\n",
      "Mapping lh sample -> oct (5) ...\n",
      "    Triangle neighbors and vertex normals...\n",
      "Loading geometry from C:\\Users\\WillKD\\mne_data\\MNE-sample-data\\subjects\\sample\\surf\\lh.sphere...\n",
      "Setting up the triangulation for the decimated surface...\n",
      "loaded lh.white 1026/155407 selected to source space (oct = 5)\n",
      "\n",
      "Loading C:\\Users\\WillKD\\mne_data\\MNE-sample-data\\subjects\\sample\\surf\\rh.white...\n",
      "Mapping rh sample -> oct (5) ...\n",
      "    Triangle neighbors and vertex normals...\n",
      "Loading geometry from C:\\Users\\WillKD\\mne_data\\MNE-sample-data\\subjects\\sample\\surf\\rh.sphere...\n",
      "Setting up the triangulation for the decimated surface...\n",
      "loaded rh.white 1026/156866 selected to source space (oct = 5)\n",
      "\n",
      "You are now one step closer to computing the gain matrix\n"
     ]
    }
   ],
   "source": [
    "src = mne.setup_source_space(subject, spacing='oct5',\n",
    "                             add_dist=False, subjects_dir=subjects_dir)"
   ]
  },
  {
   "cell_type": "markdown",
   "metadata": {},
   "source": [
    "Now we create a mixed src space by adding the volume regions specified in the\n",
    "list labels_vol. First, read the aseg file and the source space bounds\n",
    "using the inner skull surface (here using 10mm spacing to save time,\n",
    "we recommend something smaller like 5.0 in actual analyses):\n",
    "\n"
   ]
  },
  {
   "cell_type": "code",
   "execution_count": 5,
   "metadata": {
    "scrolled": true
   },
   "outputs": [
    {
     "name": "stdout",
     "output_type": "stream",
     "text": [
      "BEM              : C:\\Users\\WillKD\\mne_data\\MNE-sample-data\\subjects\\sample\\bem\\sample-5120-bem.fif\n",
      "grid                  : 10.0 mm\n",
      "mindist               : 5.0 mm\n",
      "MRI volume            : C:\\Users\\WillKD\\mne_data\\MNE-sample-data\\subjects\\sample\\mri\\aseg.mgz\n",
      "\n",
      "Reading C:\\Users\\WillKD\\mne_data\\MNE-sample-data\\subjects\\sample\\mri\\aseg.mgz...\n",
      "\n",
      "Loaded inner skull from C:\\Users\\WillKD\\mne_data\\MNE-sample-data\\subjects\\sample\\bem\\sample-5120-bem.fif (2562 nodes)\n",
      "Surface CM = (   0.7  -10.0   44.3) mm\n",
      "Surface fits inside a sphere with radius   91.8 mm\n",
      "Surface extent:\n",
      "    x =  -66.7 ...   68.8 mm\n",
      "    y =  -88.0 ...   79.0 mm\n",
      "    z =  -44.5 ...  105.8 mm\n",
      "Grid extent:\n",
      "    x =  -70.0 ...   70.0 mm\n",
      "    y =  -90.0 ...   80.0 mm\n",
      "    z =  -50.0 ...  110.0 mm\n",
      "4590 sources before omitting any.\n",
      "2961 sources after omitting infeasible sources not within 0.0 - 91.8 mm.\n",
      "Source spaces are in MRI coordinates.\n",
      "Checking that the sources are inside the surface and at least    5.0 mm away (will take a few...)\n",
      "    Skipping interior check for 346 sources that fit inside a sphere of radius   43.6 mm\n",
      "    Skipping solid angle check for 1275 points using Qhull\n",
      "    1372 source space points omitted because they are outside the inner skull surface.\n",
      "    283 source space points omitted because of the    5.0-mm distance limit.\n",
      "1306 sources remaining after excluding the sources outside the surface and less than    5.0 mm inside.\n",
      "    Selected 2 voxels from Left-Amygdala\n",
      "    Selected 9 voxels from Left-Thalamus-Proper\n",
      "    Selected 33 voxels from Left-Cerebellum-Cortex\n",
      "    Selected 21 voxels from Brain-Stem\n",
      "    Selected 1 voxel from Right-Amygdala\n",
      "    Selected 7 voxels from Right-Thalamus-Proper\n",
      "    Selected 44 voxels from Right-Cerebellum-Cortex\n",
      "Adjusting the neighborhood info.\n",
      "Source space : MRI voxel -> MRI (surface RAS)\n",
      "     0.010000  0.000000  0.000000     -70.00 mm\n",
      "     0.000000  0.010000  0.000000     -90.00 mm\n",
      "     0.000000  0.000000  0.010000     -50.00 mm\n",
      "     0.000000  0.000000  0.000000       1.00\n",
      "MRI volume : MRI voxel -> MRI (surface RAS)\n",
      "    -0.001000  0.000000  0.000000     128.00 mm\n",
      "     0.000000  0.000000  0.001000    -128.00 mm\n",
      "     0.000000 -0.001000  0.000000     128.00 mm\n",
      "     0.000000  0.000000  0.000000       1.00\n",
      "MRI volume : MRI (surface RAS) -> RAS (non-zero origin)\n",
      "     1.000000 -0.000000 -0.000000      -5.27 mm\n",
      "    -0.000000  1.000000 -0.000000       9.04 mm\n",
      "    -0.000000  0.000000  1.000000     -27.29 mm\n",
      "     0.000000  0.000000  0.000000       1.00\n",
      "The source space contains 9 spaces and 2169 vertices\n"
     ]
    }
   ],
   "source": [
    "vol_src = mne.setup_volume_source_space(\n",
    "    subject, mri=fname_aseg, pos=10.0, bem=fname_model,\n",
    "    volume_label=labels_vol, subjects_dir=subjects_dir,\n",
    "    add_interpolator=False,  # just for speed, usually this should be True\n",
    "    verbose=True)\n",
    "\n",
    "# Generate the mixed source space\n",
    "src += vol_src\n",
    "print(f\"The source space contains {len(src)} spaces and \"\n",
    "      f\"{sum(s['nuse'] for s in src)} vertices\")"
   ]
  },
  {
   "cell_type": "markdown",
   "metadata": {},
   "source": [
    "## View the source space\n",
    "\n"
   ]
  },
  {
   "cell_type": "code",
   "execution_count": 7,
   "metadata": {},
   "outputs": [
    {
     "data": {
      "text/plain": [
       "<mne.viz.backends._pyvista._Figure at 0x2d4bde65520>"
      ]
     },
     "execution_count": 7,
     "metadata": {},
     "output_type": "execute_result"
    }
   ],
   "source": [
    "src.plot(subjects_dir=subjects_dir)"
   ]
  },
  {
   "cell_type": "markdown",
   "metadata": {},
   "source": [
    "We could write the mixed source space with::\n",
    "\n",
    "   >>> write_source_spaces(fname_mixed_src, src, overwrite=True)\n",
    "\n",
    "We can also export source positions to nifti file and visualize it again:\n",
    "\n"
   ]
  },
  {
   "cell_type": "code",
   "execution_count": 8,
   "metadata": {},
   "outputs": [
    {
     "name": "stdout",
     "output_type": "stream",
     "text": [
      "Reading FreeSurfer lookup table\n"
     ]
    },
    {
     "data": {
      "text/plain": [
       "<nilearn.plotting.displays.OrthoSlicer at 0x2d4cb8e72e0>"
      ]
     },
     "execution_count": 8,
     "metadata": {},
     "output_type": "execute_result"
    },
    {
     "data": {
      "image/png": "[encoded data removed]",
      "text/plain": [
       "<Figure size 475.2x187.2 with 4 Axes>"
      ]
     },
     "metadata": {},
     "output_type": "display_data"
    }
   ],
   "source": [
    "nii_fname = op.join(bem_dir, '%s-mixed-src.nii' % subject)\n",
    "src.export_volume(nii_fname, mri_resolution=True, overwrite=True)\n",
    "plotting.plot_img(nii_fname, cmap='nipy_spectral')"
   ]
  },
  {
   "cell_type": "markdown",
   "metadata": {},
   "source": [
    "## Compute the fwd matrix\n",
    "\n"
   ]
  },
  {
   "cell_type": "code",
   "execution_count": 9,
   "metadata": {
    "scrolled": true
   },
   "outputs": [
    {
     "name": "stdout",
     "output_type": "stream",
     "text": [
      "Source space          : <SourceSpaces: [<surface (lh), n_vertices=155407, n_used=1026>, <surface (rh), n_vertices=156866, n_used=1026>, <volume (Left-Amygdala), n_used=2>, <volume (Left-Thalamus-Proper), n_used=9>, <volume (Left-Cerebellum-Cortex), n_used=33>, <volume (Brain-Stem), n_used=21>, <volume (Right-Amygdala), n_used=1>, <volume (Right-Thalamus-Proper), n_used=7>, <volume (Right-Cerebellum-Cortex), n_used=44>] MRI (surface RAS) coords, subject 'sample', ~26.1 MB>\n",
      "MRI -> head transform : C:\\Users\\WillKD\\mne_data\\MNE-sample-data\\MEG\\sample/sample_audvis_raw-trans.fif\n",
      "Measurement data      : sample_audvis-ave.fif\n",
      "Conductor model   : C:\\Users\\WillKD\\mne_data\\MNE-sample-data\\subjects\\sample\\bem\\sample-5120-bem-sol.fif\n",
      "Accurate field computations\n",
      "Do computations in head coordinates\n",
      "Free source orientations\n",
      "\n",
      "Read 9 source spaces a total of 2169 active source locations\n",
      "\n",
      "Coordinate transformation: MRI (surface RAS) -> head\n",
      "     0.999310  0.009985 -0.035787      -3.17 mm\n",
      "     0.012759  0.812405  0.582954       6.86 mm\n",
      "     0.034894 -0.583008  0.811716      28.88 mm\n",
      "     0.000000  0.000000  0.000000       1.00\n",
      "\n",
      "Read 306 MEG channels from info\n",
      "99 coil definitions read\n",
      "Coordinate transformation: MEG device -> head\n",
      "     0.991420 -0.039936 -0.124467      -6.13 mm\n",
      "     0.060661  0.984012  0.167456       0.06 mm\n",
      "     0.115790 -0.173570  0.977991      64.74 mm\n",
      "     0.000000  0.000000  0.000000       1.00\n",
      "MEG coil definitions created in head coordinates.\n",
      "Source spaces are now in head coordinates.\n",
      "\n",
      "Setting up the BEM model using C:\\Users\\WillKD\\mne_data\\MNE-sample-data\\subjects\\sample\\bem\\sample-5120-bem-sol.fif...\n",
      "\n",
      "Loading surfaces...\n",
      "\n",
      "Loading the solution matrix...\n",
      "\n",
      "Homogeneous model surface loaded.\n",
      "Loaded linear_collocation BEM solution from C:\\Users\\WillKD\\mne_data\\MNE-sample-data\\subjects\\sample\\bem\\sample-5120-bem-sol.fif\n",
      "Employing the head->MRI coordinate transform with the BEM model.\n",
      "BEM model sample-5120-bem-sol.fif is now set up\n",
      "\n",
      "Source spaces are in head coordinates.\n",
      "Checking that the sources are inside the surface and at least    5.0 mm away (will take a few...)\n",
      "    Skipping interior check for 211 sources that fit inside a sphere of radius   43.6 mm\n",
      "    Skipping solid angle check for 0 points using Qhull\n",
      "    84 source space point omitted because of the    5.0-mm distance limit.\n",
      "    Skipping interior check for 219 sources that fit inside a sphere of radius   43.6 mm\n",
      "    Skipping solid angle check for 0 points using Qhull\n",
      "    84 source space point omitted because of the    5.0-mm distance limit.\n",
      "    Skipping interior check for 2 sources that fit inside a sphere of radius   43.6 mm\n",
      "    Skipping solid angle check for 0 points using Qhull\n",
      "    Skipping interior check for 9 sources that fit inside a sphere of radius   43.6 mm\n",
      "    Skipping solid angle check for 0 points using Qhull\n",
      "    Skipping interior check for 1 sources that fit inside a sphere of radius   43.6 mm\n",
      "    Skipping solid angle check for 0 points using Qhull\n",
      "    Skipping interior check for 8 sources that fit inside a sphere of radius   43.6 mm\n",
      "    Skipping solid angle check for 0 points using Qhull\n",
      "    Skipping interior check for 1 sources that fit inside a sphere of radius   43.6 mm\n",
      "    Skipping solid angle check for 0 points using Qhull\n",
      "    Skipping interior check for 7 sources that fit inside a sphere of radius   43.6 mm\n",
      "    Skipping solid angle check for 0 points using Qhull\n",
      "    Skipping interior check for 1 sources that fit inside a sphere of radius   43.6 mm\n",
      "    Skipping solid angle check for 0 points using Qhull\n",
      "\n",
      "Setting up compensation data...\n",
      "    No compensation set. Nothing more to do.\n",
      "\n",
      "Composing the field computation matrix...\n",
      "Computing MEG at 2001 source locations (free orientations)...\n",
      "\n",
      "Finished.\n",
      "Leadfield size : 306 sensors x 6003 dipoles\n",
      "The fwd source space contains 9 spaces and 2001 vertices\n",
      "Reading C:\\Users\\WillKD\\mne_data\\MNE-sample-data\\MEG\\sample/sample_audvis-ave.fif ...\n",
      "    Read a total of 4 projection items:\n",
      "        PCA-v1 (1 x 102) active\n",
      "        PCA-v2 (1 x 102) active\n",
      "        PCA-v3 (1 x 102) active\n",
      "        Average EEG reference (1 x 60) active\n",
      "    Found the data of interest:\n",
      "        t =    -199.80 ...     499.49 ms (Left Auditory)\n",
      "        0 CTF compensation matrices available\n",
      "        nave = 55 - aspect type = 100\n",
      "Projections have already been applied. Setting proj attribute to True.\n",
      "Applying baseline correction (mode: mean)\n",
      "    365 x 365 full covariance (kind = 1) found.\n",
      "    Read a total of 4 projection items:\n",
      "        PCA-v1 (1 x 102) active\n",
      "        PCA-v2 (1 x 102) active\n",
      "        PCA-v3 (1 x 102) active\n",
      "        Average EEG reference (1 x 59) active\n"
     ]
    }
   ],
   "source": [
    "fwd = mne.make_forward_solution(\n",
    "    fname_evoked, fname_trans, src, fname_bem,\n",
    "    mindist=5.0,  # ignore sources<=5mm from innerskull\n",
    "    meg=True, eeg=False, n_jobs=1)\n",
    "del src  # save memory\n",
    "\n",
    "leadfield = fwd['sol']['data']\n",
    "print(\"Leadfield size : %d sensors x %d dipoles\" % leadfield.shape)\n",
    "print(f\"The fwd source space contains {len(fwd['src'])} spaces and \"\n",
    "      f\"{sum(s['nuse'] for s in fwd['src'])} vertices\")\n",
    "\n",
    "# Load data\n",
    "condition = 'Left Auditory'\n",
    "evoked = mne.read_evokeds(fname_evoked, condition=condition,\n",
    "                          baseline=(None, 0))\n",
    "noise_cov = mne.read_cov(fname_cov)"
   ]
  },
  {
   "cell_type": "markdown",
   "metadata": {},
   "source": [
    "## Compute inverse solution\n",
    "\n"
   ]
  },
  {
   "cell_type": "code",
   "execution_count": 10,
   "metadata": {},
   "outputs": [
    {
     "name": "stdout",
     "output_type": "stream",
     "text": [
      "Converting forward solution to surface orientation\n",
      "    No patch info available. The standard source space normals will be employed in the rotation to the local surface coordinates....\n",
      "    Converting to surface-based source orientations...\n",
      "    [done]\n",
      "info[\"bads\"] and noise_cov[\"bads\"] do not match, excluding bad channels from both\n",
      "Computing inverse operator with 305 channels.\n",
      "    305 out of 306 channels remain after picking\n",
      "Selected 305 channels\n",
      "Applying loose dipole orientations to surface source spaces: 0.2\n",
      "Applying free  dipole orientations to volume  source spaces: 1.0\n",
      "Whitening the forward solution.\n",
      "    Created an SSP operator (subspace dimension = 3)\n",
      "Computing rank from covariance with rank=None\n",
      "    Using tolerance 3.5e-13 (2.2e-16 eps * 305 dim * 5.2  max singular value)\n",
      "    Estimated rank (mag + grad): 302\n",
      "    MEG: rank 302 computed from 305 data channels with 3 projectors\n",
      "    Setting small MEG eigenvalues to zero (without PCA)\n",
      "Creating the source covariance matrix\n",
      "Adjusting source covariance matrix.\n",
      "Computing SVD of whitened and weighted lead field matrix.\n",
      "    largest singular value = 4.39266\n",
      "    scaling factor to adjust the trace = 3.01344e+19\n",
      "Preparing the inverse operator for use...\n",
      "    Scaled noise and source covariance from nave = 1 to nave = 55\n",
      "    Created the regularized inverter\n",
      "    Created an SSP operator (subspace dimension = 3)\n",
      "    Created the whitener using a noise covariance matrix with rank 302 (3 small eigenvalues omitted)\n",
      "    Computing noise-normalization factors (dSPM)...\n",
      "[done]\n",
      "Applying inverse operator to \"Left Auditory\"...\n",
      "    Picked 305 channels from the data\n",
      "    Computing inverse...\n",
      "    Eigenleads need to be weighted ...\n",
      "    Computing residual...\n",
      "    Explained  59.0% variance\n",
      "    Combining the current components...\n",
      "    dSPM...\n",
      "[done]\n"
     ]
    }
   ],
   "source": [
    "snr = 3.0            # use smaller SNR for raw data\n",
    "inv_method = 'dSPM'  # sLORETA, MNE, dSPM\n",
    "parc = 'aparc'       # the parcellation to use, e.g., 'aparc' 'aparc.a2009s'\n",
    "loose = dict(surface=0.2, volume=1.)\n",
    "\n",
    "lambda2 = 1.0 / snr ** 2\n",
    "\n",
    "inverse_operator = make_inverse_operator(\n",
    "    evoked.info, fwd, noise_cov, depth=None, loose=loose, verbose=True)\n",
    "del fwd\n",
    "\n",
    "stc = apply_inverse(evoked, inverse_operator, lambda2, inv_method,\n",
    "                    pick_ori=None)\n",
    "src = inverse_operator['src']"
   ]
  },
  {
   "cell_type": "markdown",
   "metadata": {},
   "source": [
    "## Plot the mixed source estimate\n",
    "\n"
   ]
  },
  {
   "cell_type": "code",
   "execution_count": 15,
   "metadata": {},
   "outputs": [
    {
     "name": "stdout",
     "output_type": "stream",
     "text": [
      "Preparing the inverse operator for use...\n",
      "    Scaled noise and source covariance from nave = 1 to nave = 55\n",
      "    Created the regularized inverter\n",
      "    Created an SSP operator (subspace dimension = 3)\n",
      "    Created the whitener using a noise covariance matrix with rank 302 (3 small eigenvalues omitted)\n",
      "    Computing noise-normalization factors (dSPM)...\n",
      "[done]\n",
      "Applying inverse operator to \"Left Auditory\"...\n",
      "    Picked 305 channels from the data\n",
      "    Computing inverse...\n",
      "    Eigenleads need to be weighted ...\n",
      "    Computing residual...\n",
      "    Explained  59.0% variance\n",
      "    dSPM...\n",
      "[done]\n",
      "Using control points [ 3.43101017  3.98225664 16.7504814 ]\n"
     ]
    }
   ],
   "source": [
    "initial_time = 0.1\n",
    "stc_vec = apply_inverse(evoked, inverse_operator, lambda2, inv_method,\n",
    "                        pick_ori='vector')\n",
    "brain = stc_vec.plot(\n",
    "    hemi='both', src=inverse_operator['src'], views='coronal',\n",
    "    initial_time=initial_time, subjects_dir=subjects_dir)"
   ]
  },
  {
   "cell_type": "markdown",
   "metadata": {},
   "source": [
    "## Plot the surface\n",
    "\n"
   ]
  },
  {
   "cell_type": "code",
   "execution_count": 13,
   "metadata": {},
   "outputs": [
    {
     "name": "stdout",
     "output_type": "stream",
     "text": [
      "Using control points [ 3.45409596  4.02821048 16.97219252]\n"
     ]
    },
    {
     "name": "stderr",
     "output_type": "stream",
     "text": [
      "Traceback (most recent call last):\n",
      "  File \"C:\\ProgramData\\Anaconda3\\envs\\mne\\lib\\site-packages\\mne\\viz\\_brain\\_brain.py\", line 46, in safe_event\n",
      "    return fun(*args, **kwargs)\n",
      "  File \"C:\\ProgramData\\Anaconda3\\envs\\mne\\lib\\site-packages\\mne\\viz\\_brain\\_brain.py\", line 620, in _clean\n",
      "    self.clear_glyphs()\n",
      "  File \"C:\\ProgramData\\Anaconda3\\envs\\mne\\lib\\site-packages\\mne\\viz\\_brain\\_brain.py\", line 1516, in clear_glyphs\n",
      "    assert sum(len(v) for v in self.picked_points.values()) == 0\n",
      "AssertionError\n"
     ]
    }
   ],
   "source": [
    "brain = stc.surface().plot(initial_time=initial_time,\n",
    "                           subjects_dir=subjects_dir)"
   ]
  },
  {
   "cell_type": "markdown",
   "metadata": {},
   "source": [
    "## Plot the volume\n",
    "\n"
   ]
  },
  {
   "cell_type": "code",
   "execution_count": 12,
   "metadata": {},
   "outputs": [
    {
     "name": "stdout",
     "output_type": "stream",
     "text": [
      "Fixing initial time: 0.1 sec\n",
      "Showing: t = 0.100 s, (-25.3, 19.0, -7.3) mm, [5, 10, 7] vox, 2045 vertex\n",
      "Using control points [3.21567156 3.47889133 6.3983794 ]\n"
     ]
    },
    {
     "data": {
      "image/png": "[encoded data removed]",
      "text/plain": [
       "<Figure size 432x288 with 6 Axes>"
      ]
     },
     "metadata": {},
     "output_type": "display_data"
    }
   ],
   "source": [
    "fig = stc.volume().plot(initial_time=initial_time, src=src,\n",
    "                        subjects_dir=subjects_dir)"
   ]
  },
  {
   "cell_type": "markdown",
   "metadata": {},
   "source": [
    "## Process labels\n",
    "Average the source estimates within each label of the cortical parcellation\n",
    "and each sub structure contained in the src space\n",
    "\n"
   ]
  },
  {
   "cell_type": "code",
   "execution_count": null,
   "metadata": {},
   "outputs": [],
   "source": [
    "# Get labels for FreeSurfer 'aparc' cortical parcellation with 34 labels/hemi\n",
    "labels_parc = mne.read_labels_from_annot(\n",
    "    subject, parc=parc, subjects_dir=subjects_dir)\n",
    "\n",
    "label_ts = mne.extract_label_time_course(\n",
    "    [stc], labels_parc, src, mode='mean', allow_empty=True)\n",
    "\n",
    "# plot the times series of 2 labels\n",
    "fig, axes = plt.subplots(1)\n",
    "axes.plot(1e3 * stc.times, label_ts[0][0, :], 'k', label='bankssts-lh')\n",
    "axes.plot(1e3 * stc.times, label_ts[0][-1, :].T, 'r', label='Brain-stem')\n",
    "axes.set(xlabel='Time (ms)', ylabel='MNE current (nAm)')\n",
    "axes.legend()\n",
    "mne.viz.tight_layout()"
   ]
  },
  {
   "cell_type": "code",
   "execution_count": 14,
   "metadata": {},
   "outputs": [
    {
     "data": {
      "text/plain": [
       "'C:\\\\Users\\\\WillKD\\\\mne_data\\\\MNE-sample-data'"
      ]
     },
     "execution_count": 14,
     "metadata": {},
     "output_type": "execute_result"
    }
   ],
   "source": [
    "data_path"
   ]
  },
  {
   "cell_type": "code",
   "execution_count": null,
   "metadata": {},
   "outputs": [],
   "source": []
  }
 ],
 "metadata": {
  "kernelspec": {
   "display_name": "Python [conda env:mne]",
   "language": "python",
   "name": "conda-env-mne-py"
  },
  "language_info": {
   "codemirror_mode": {
    "name": "ipython",
    "version": 3
   },
   "file_extension": ".py",
   "mimetype": "text/x-python",
   "name": "python",
   "nbconvert_exporter": "python",
   "pygments_lexer": "ipython3",
   "version": "3.9.2"
  }
 },
 "nbformat": 4,
 "nbformat_minor": 1
}
